{
 "cells": [
  {
   "cell_type": "code",
   "execution_count": 5,
   "metadata": {
    "collapsed": false
   },
   "outputs": [],
   "source": [
    "#!/usr/bin/python3\n",
    "import pandas as pd\n",
    "import matplotlib.pyplot as plt\n",
    "import numpy as np"
   ]
  },
  {
   "cell_type": "code",
   "execution_count": 6,
   "metadata": {
    "collapsed": false
   },
   "outputs": [
    {
     "data": {
      "text/plain": [
       "106"
      ]
     },
     "execution_count": 6,
     "metadata": {},
     "output_type": "execute_result"
    }
   ],
   "source": [
    "# Read csv\n",
    "data = pd.read_csv('device_failure.csv')\n",
    "\n",
    "# How many devices failed?\n",
    "# Filter all devices that have failed\n",
    "# Remove duplicates and counted total devices\n",
    "# Output: 106\n",
    "devices_failed = data.loc[data['failure'] == 1]\n",
    "len(devices_failed['device'].unique())"
   ]
  },
  {
   "cell_type": "code",
   "execution_count": 7,
   "metadata": {
    "collapsed": false,
    "scrolled": false
   },
   "outputs": [
    {
     "name": "stdout",
     "output_type": "stream",
     "text": [
      "          %_failure\n",
      "device             \n",
      "S1F023H2   5.263158\n",
      "S1F03YZM   0.465116\n",
      "S1F09DZQ   0.502513\n",
      "S1F0CTDN  14.285714\n",
      "S1F0DSTY   2.222222\n",
      "S1F0F4EB   0.787402\n",
      "S1F0GG8X   5.555556\n",
      "S1F0GJW3   1.315789\n",
      "S1F0GKFX   0.854701\n",
      "S1F0GKL6   0.751880\n",
      "S1F0GPFZ   0.487805\n",
      "S1F0GSD9   0.675676\n",
      "S1F0GSHB   0.465116\n",
      "S1F0J5JH   0.518135\n",
      "S1F0JD7P   1.010101\n",
      "S1F0JGJV   0.359712\n",
      "S1F0L0DW   0.709220\n",
      "S1F0LCTV   3.846154\n",
      "S1F0LCVC   0.847458\n",
      "S1F0LD15   0.497512\n",
      "S1F0LD2C   1.315789\n",
      "S1F0P3G2   5.000000\n",
      "S1F0PJJW   1.666667\n",
      "S1F0QF3R   0.675676\n",
      "S1F0QY11   5.263158\n",
      "S1F0RR35   1.149425\n",
      "S1F0RRB1  20.000000\n",
      "S1F0RSZP   0.900901\n",
      "S1F0S2WJ   5.263158\n",
      "S1F0S4CA   1.724138\n",
      "...             ...\n",
      "W1F1BS0H   0.526316\n",
      "W1F1BZTM   0.833333\n",
      "W1F1C9TE   1.851852\n",
      "W1F1C9WG   0.787402\n",
      "W1F1CB5E   0.462963\n",
      "W1F1CDDP   1.075269\n",
      "W1F1CJ1K   0.515464\n",
      "W1F1DQN8   0.471698\n",
      "Z1F04GCH   2.000000\n",
      "Z1F0B4XZ   0.847458\n",
      "Z1F0FSBY   1.282051\n",
      "Z1F0K451   0.763359\n",
      "Z1F0LSNZ   0.564972\n",
      "Z1F0LVGY   2.857143\n",
      "Z1F0LVPW   5.263158\n",
      "Z1F0MCCA   2.857143\n",
      "Z1F0MRPJ   0.434783\n",
      "Z1F0NVZA   5.263158\n",
      "Z1F0P16F   0.529101\n",
      "Z1F0P5D9   2.777778\n",
      "Z1F0QH0C   1.204819\n",
      "Z1F130LH   1.562500\n",
      "Z1F148T1   0.909091\n",
      "Z1F14BGY   0.354610\n",
      "Z1F1653X   0.781250\n",
      "Z1F1901P   0.757576\n",
      "Z1F1AG5N  11.111111\n",
      "Z1F1FCH5   5.263158\n",
      "Z1F1RJFA   0.806452\n",
      "Z1F1VQFY   0.800000\n",
      "\n",
      "[106 rows x 1 columns]\n"
     ]
    }
   ],
   "source": [
    "# How often do they fail? \n",
    "\n",
    "# Got the mean fail for each device by grouping by device and converting total failures to percentage.\n",
    "# Exclude all devices that are not 0%\n",
    "# Change column names\n",
    "# Output: new dataframe with devices and total percentage of failures\n",
    "mean_fails = data.groupby('device')['failure'].apply(lambda x: x.mean() * 100).reset_index()\n",
    "percent_fails = mean_fails[mean_fails['failure'] != 0].set_index('device')\n",
    "percent_fails.columns = [\"%_failure\"]\n",
    "print(percent_fails)"
   ]
  },
  {
   "cell_type": "code",
   "execution_count": 8,
   "metadata": {
    "collapsed": false,
    "scrolled": false
   },
   "outputs": [
    {
     "data": {
      "image/png": "[encoded data removed]",
      "text/plain": [
       "<matplotlib.figure.Figure at 0x10d68f828>"
      ]
     },
     "metadata": {},
     "output_type": "display_data"
    }
   ],
   "source": [
    "# when do they fail?\n",
    "\n",
    "# Counted all devices that failed by date\n",
    "# Created a bar graph to characterize results\n",
    "# Output: bar graph of result\n",
    "date_failed = devices_failed.groupby('date')['device'].count().reset_index()\n",
    "plt.bar('date', 'device', data=date_failed, width=3)\n",
    "\n",
    "plt.title(\"Number of failed device vs. date of failure\")\n",
    "plt.xlabel(\"Date\")\n",
    "plt.ylabel('Total devices failed')\n",
    "\n",
    "plt.show()"
   ]
  }
 ],
 "metadata": {
  "kernelspec": {
   "display_name": "Python 3",
   "language": "python",
   "name": "python3"
  },
  "language_info": {
   "codemirror_mode": {
    "name": "ipython",
    "version": 3
   },
   "file_extension": ".py",
   "mimetype": "text/x-python",
   "name": "python",
   "nbconvert_exporter": "python",
   "pygments_lexer": "ipython3",
   "version": "3.6.0"
  }
 },
 "nbformat": 4,
 "nbformat_minor": 2
}
