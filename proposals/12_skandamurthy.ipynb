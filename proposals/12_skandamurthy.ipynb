{
 "cells": [
  {
   "cell_type": "code",
   "execution_count": 4,
   "metadata": {},
   "outputs": [],
   "source": [
    "import pandas as pd\n",
    "import numpy as np\n",
    "import seaborn as sns"
   ]
  },
  {
   "cell_type": "code",
   "execution_count": 5,
   "metadata": {},
   "outputs": [],
   "source": [
    "#importing the csv \n",
    "data_frame = pd.read_csv('Somerville_High_School_YRBS_Raw_Data_2002-2016.csv')"
   ]
  },
  {
   "cell_type": "markdown",
   "metadata": {},
   "source": [
    "Lets rename the unknown/non-entries as \"Not mentioned\""
   ]
  },
  {
   "cell_type": "code",
   "execution_count": 6,
   "metadata": {},
   "outputs": [],
   "source": [
    "#Replacing the Nan values with meaningfull string\n",
    "data_frame[\"parents\"]= data_frame[\"parents\"].replace([' '], \"Not mentioned\")"
   ]
  },
  {
   "cell_type": "code",
   "execution_count": 7,
   "metadata": {},
   "outputs": [
    {
     "data": {
      "text/plain": [
       "array(['My mother and my father', 'My mother and a step-parent',\n",
       "       'My mother only', 'My father only',\n",
       "       'Someone else not on this list', 'My father and a step-parent',\n",
       "       'Another relative (like a grandparent, aunt/uncle)',\n",
       "       'Not mentioned', 'Foster parent(s)'], dtype=object)"
      ]
     },
     "execution_count": 7,
     "metadata": {},
     "output_type": "execute_result"
    }
   ],
   "source": [
    "# Get all the unique values in the parents column\n",
    "data_frame[\"parents\"].unique()"
   ]
  },
  {
   "cell_type": "markdown",
   "metadata": {},
   "source": [
    "We are concentrating on single parents i.e., Mother only and Father only. Lets take count "
   ]
  },
  {
   "cell_type": "code",
   "execution_count": 8,
   "metadata": {},
   "outputs": [
    {
     "data": {
      "text/plain": [
       "Not mentioned                                        3917\n",
       "My mother and my father                              2873\n",
       "My mother only                                       1130\n",
       "My mother and a step-parent                           389\n",
       "Another relative (like a grandparent, aunt/uncle)     226\n",
       "My father only                                        152\n",
       "Someone else not on this list                          92\n",
       "My father and a step-parent                            76\n",
       "Foster parent(s)                                       16\n",
       "Name: parents, dtype: int64"
      ]
     },
     "execution_count": 8,
     "metadata": {},
     "output_type": "execute_result"
    }
   ],
   "source": [
    "# Frequency of Values in the column\n",
    "data_frame[\"parents\"].value_counts()"
   ]
  },
  {
   "cell_type": "markdown",
   "metadata": {},
   "source": [
    "As we can see only mother's and father's but there's some overlaps in-between. So we have to break down and get counts of both. As foster parent(s) doesn't have info properly so neglecting that part. "
   ]
  },
  {
   "cell_type": "code",
   "execution_count": 9,
   "metadata": {},
   "outputs": [
    {
     "name": "stdout",
     "output_type": "stream",
     "text": [
      "Frequency of Mother:4392\n",
      "Ffrequency of father:3101\n"
     ]
    }
   ],
   "source": [
    "# Counting all the entries containing \"mother\" and \"father\"\n",
    "# We can do this method or just add up the counts and get the indivisual values wherever \n",
    "#mother/father shows up in the above table.\n",
    "mother = 0\n",
    "father = 0\n",
    "for index,value in data_frame[\"parents\"].items():\n",
    "    if value.find(\"mother\") != -1:\n",
    "        mother +=1\n",
    "    if value.find(\"father\") != -1:\n",
    "        father +=1\n",
    "print(\"Frequency of Mother:\" +str(mother)+ \"\\n\"+\"Ffrequency of father:\"+str(father))"
   ]
  },
  {
   "cell_type": "code",
   "execution_count": 10,
   "metadata": {},
   "outputs": [
    {
     "data": {
      "text/html": [
       "<div>\n",
       "<style scoped>\n",
       "    .dataframe tbody tr th:only-of-type {\n",
       "        vertical-align: middle;\n",
       "    }\n",
       "\n",
       "    .dataframe tbody tr th {\n",
       "        vertical-align: top;\n",
       "    }\n",
       "\n",
       "    .dataframe thead th {\n",
       "        text-align: right;\n",
       "    }\n",
       "</style>\n",
       "<table border=\"1\" class=\"dataframe\">\n",
       "  <thead>\n",
       "    <tr style=\"text-align: right;\">\n",
       "      <th></th>\n",
       "      <th>parents</th>\n",
       "      <th>counts</th>\n",
       "    </tr>\n",
       "  </thead>\n",
       "  <tbody>\n",
       "    <tr>\n",
       "      <th>0</th>\n",
       "      <td>Another relative (like a grandparent, aunt/uncle)</td>\n",
       "      <td>226</td>\n",
       "    </tr>\n",
       "    <tr>\n",
       "      <th>1</th>\n",
       "      <td>Foster parent(s)</td>\n",
       "      <td>16</td>\n",
       "    </tr>\n",
       "    <tr>\n",
       "      <th>2</th>\n",
       "      <td>My father and a step-parent</td>\n",
       "      <td>76</td>\n",
       "    </tr>\n",
       "    <tr>\n",
       "      <th>3</th>\n",
       "      <td>My father only</td>\n",
       "      <td>152</td>\n",
       "    </tr>\n",
       "    <tr>\n",
       "      <th>4</th>\n",
       "      <td>My mother and a step-parent</td>\n",
       "      <td>389</td>\n",
       "    </tr>\n",
       "    <tr>\n",
       "      <th>5</th>\n",
       "      <td>My mother and my father</td>\n",
       "      <td>2873</td>\n",
       "    </tr>\n",
       "    <tr>\n",
       "      <th>6</th>\n",
       "      <td>My mother only</td>\n",
       "      <td>1130</td>\n",
       "    </tr>\n",
       "    <tr>\n",
       "      <th>7</th>\n",
       "      <td>Not mentioned</td>\n",
       "      <td>2451</td>\n",
       "    </tr>\n",
       "    <tr>\n",
       "      <th>8</th>\n",
       "      <td>Someone else not on this list</td>\n",
       "      <td>92</td>\n",
       "    </tr>\n",
       "  </tbody>\n",
       "</table>\n",
       "</div>"
      ],
      "text/plain": [
       "                                             parents  counts\n",
       "0  Another relative (like a grandparent, aunt/uncle)     226\n",
       "1                                   Foster parent(s)      16\n",
       "2                        My father and a step-parent      76\n",
       "3                                     My father only     152\n",
       "4                        My mother and a step-parent     389\n",
       "5                            My mother and my father    2873\n",
       "6                                     My mother only    1130\n",
       "7                                      Not mentioned    2451\n",
       "8                      Someone else not on this list      92"
      ]
     },
     "execution_count": 10,
     "metadata": {},
     "output_type": "execute_result"
    }
   ],
   "source": [
    "# Creating a seperate dataframe for plotting purposesor\n",
    "parents_data_frame=data_frame.filter([\"parents\",'id'])\n",
    "parents_data_frame=parents_data_frame.groupby(\"parents\").count().reset_index()\n",
    "parents_data_frame.columns=[\"parents\",\"counts\"]\n",
    "parents_data_frame"
   ]
  },
  {
   "cell_type": "code",
   "execution_count": 11,
   "metadata": {},
   "outputs": [],
   "source": [
    "# creating a seperate dataframe to plot\n",
    "data = [[\"Mother\" , 4392] ,[\"Father\",3101]]\n",
    "columns = [\"parents\",\"counts\"]\n",
    "new_data_frame =pd.DataFrame(data=data,columns=columns)"
   ]
  },
  {
   "cell_type": "code",
   "execution_count": 12,
   "metadata": {},
   "outputs": [
    {
     "data": {
      "text/plain": [
       "0    0.495041\n",
       "1    0.349527\n",
       "Name: counts, dtype: float64"
      ]
     },
     "execution_count": 12,
     "metadata": {},
     "output_type": "execute_result"
    }
   ],
   "source": [
    "new_data_frame[\"counts\"]/8872"
   ]
  },
  {
   "cell_type": "markdown",
   "metadata": {},
   "source": [
    "Almost 50% of the Mothers are contribting/participating in the lives of the children according to the data and likewise 34% of fathers too.Honestly these are pretty inacurate as \"Not mentioned\" values or\"Nan\" is around 27.6% of original data's gone missing.The foster-parents are around 16 so we may have 0.00180% error if we exclude in our calculations so that's negligible."
   ]
  },
  {
   "cell_type": "code",
   "execution_count": 13,
   "metadata": {},
   "outputs": [
    {
     "data": {
      "image/png": "[encoded data removed]",
      "text/plain": [
       "<Figure size 432x288 with 1 Axes>"
      ]
     },
     "metadata": {},
     "output_type": "display_data"
    }
   ],
   "source": [
    "plot = sns.barplot(x=\"counts\",y=\"parents\",data=new_data_frame)"
   ]
  },
  {
   "cell_type": "code",
   "execution_count": 14,
   "metadata": {},
   "outputs": [],
   "source": [
    "parents_data_frame=parents_data_frame.append(new_data_frame).reset_index(drop=True)"
   ]
  },
  {
   "cell_type": "code",
   "execution_count": 15,
   "metadata": {},
   "outputs": [
    {
     "data": {
      "image/png": "[encoded data removed]",
      "text/plain": [
       "<Figure size 432x288 with 1 Axes>"
      ]
     },
     "metadata": {},
     "output_type": "display_data"
    }
   ],
   "source": [
    "plot = sns.barplot(x=\"counts\",y=\"parents\",data=parents_data_frame)"
   ]
  }
 ],
 "metadata": {
  "kernelspec": {
   "display_name": "Python 3",
   "language": "python",
   "name": "python3"
  },
  "language_info": {
   "codemirror_mode": {
    "name": "ipython",
    "version": 3
   },
   "file_extension": ".py",
   "mimetype": "text/x-python",
   "name": "python",
   "nbconvert_exporter": "python",
   "pygments_lexer": "ipython3",
   "version": "3.6.5"
  }
 },
 "nbformat": 4,
 "nbformat_minor": 2
}
