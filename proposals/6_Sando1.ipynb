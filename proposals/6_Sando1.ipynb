{
 "cells": [
  {
   "cell_type": "markdown",
   "metadata": {},
   "source": [
    "# Outreachy Datascience\n",
    "### Issue 6\n",
    "#### Device Failue: Modeling Dataset - Feature Generation\n",
    "The current telemetry payload is too large. We need a good representation that approximates the dataset, with a reduced number of columns.\n",
    "-  What are some methods for reducing the size of the dataset?\n",
    "-  What is the trade-off between dataset size and fidelity to original dataset\n"
   ]
  },
  {
   "cell_type": "code",
   "execution_count": 41,
   "metadata": {},
   "outputs": [],
   "source": [
    "#import libraries for faster performance and easier code.\n",
    "import numpy as np\n",
    "import pandas as pd \n",
    "import matplotlib.pyplot as plt\n",
    "% matplotlib inline"
   ]
  },
  {
   "cell_type": "code",
   "execution_count": 57,
   "metadata": {},
   "outputs": [
    {
     "data": {
      "text/html": [
       "<div>\n",
       "<style scoped>\n",
       "    .dataframe tbody tr th:only-of-type {\n",
       "        vertical-align: middle;\n",
       "    }\n",
       "\n",
       "    .dataframe tbody tr th {\n",
       "        vertical-align: top;\n",
       "    }\n",
       "\n",
       "    .dataframe thead th {\n",
       "        text-align: right;\n",
       "    }\n",
       "</style>\n",
       "<table border=\"1\" class=\"dataframe\">\n",
       "  <thead>\n",
       "    <tr style=\"text-align: right;\">\n",
       "      <th></th>\n",
       "      <th>date</th>\n",
       "      <th>device</th>\n",
       "      <th>attribute1</th>\n",
       "      <th>attribute2</th>\n",
       "      <th>attribute3</th>\n",
       "      <th>attribute4</th>\n",
       "      <th>attribute5</th>\n",
       "      <th>attribute6</th>\n",
       "      <th>attribute7</th>\n",
       "      <th>attribute8</th>\n",
       "      <th>attribute9</th>\n",
       "      <th>failure</th>\n",
       "    </tr>\n",
       "  </thead>\n",
       "  <tbody>\n",
       "    <tr>\n",
       "      <th>0</th>\n",
       "      <td>15001</td>\n",
       "      <td>S1F01085</td>\n",
       "      <td>215630672</td>\n",
       "      <td>56</td>\n",
       "      <td>0</td>\n",
       "      <td>52</td>\n",
       "      <td>6</td>\n",
       "      <td>407438</td>\n",
       "      <td>0</td>\n",
       "      <td>0</td>\n",
       "      <td>7</td>\n",
       "      <td>0</td>\n",
       "    </tr>\n",
       "    <tr>\n",
       "      <th>1</th>\n",
       "      <td>15001</td>\n",
       "      <td>S1F0166B</td>\n",
       "      <td>61370680</td>\n",
       "      <td>0</td>\n",
       "      <td>3</td>\n",
       "      <td>0</td>\n",
       "      <td>6</td>\n",
       "      <td>403174</td>\n",
       "      <td>0</td>\n",
       "      <td>0</td>\n",
       "      <td>0</td>\n",
       "      <td>0</td>\n",
       "    </tr>\n",
       "    <tr>\n",
       "      <th>2</th>\n",
       "      <td>15001</td>\n",
       "      <td>S1F01E6Y</td>\n",
       "      <td>173295968</td>\n",
       "      <td>0</td>\n",
       "      <td>0</td>\n",
       "      <td>0</td>\n",
       "      <td>12</td>\n",
       "      <td>237394</td>\n",
       "      <td>0</td>\n",
       "      <td>0</td>\n",
       "      <td>0</td>\n",
       "      <td>0</td>\n",
       "    </tr>\n",
       "    <tr>\n",
       "      <th>3</th>\n",
       "      <td>15001</td>\n",
       "      <td>S1F01JE0</td>\n",
       "      <td>79694024</td>\n",
       "      <td>0</td>\n",
       "      <td>0</td>\n",
       "      <td>0</td>\n",
       "      <td>6</td>\n",
       "      <td>410186</td>\n",
       "      <td>0</td>\n",
       "      <td>0</td>\n",
       "      <td>0</td>\n",
       "      <td>0</td>\n",
       "    </tr>\n",
       "    <tr>\n",
       "      <th>4</th>\n",
       "      <td>15001</td>\n",
       "      <td>S1F01R2B</td>\n",
       "      <td>135970480</td>\n",
       "      <td>0</td>\n",
       "      <td>0</td>\n",
       "      <td>0</td>\n",
       "      <td>15</td>\n",
       "      <td>313173</td>\n",
       "      <td>0</td>\n",
       "      <td>0</td>\n",
       "      <td>3</td>\n",
       "      <td>0</td>\n",
       "    </tr>\n",
       "  </tbody>\n",
       "</table>\n",
       "</div>"
      ],
      "text/plain": [
       "    date    device  attribute1  attribute2  attribute3  attribute4  \\\n",
       "0  15001  S1F01085   215630672          56           0          52   \n",
       "1  15001  S1F0166B    61370680           0           3           0   \n",
       "2  15001  S1F01E6Y   173295968           0           0           0   \n",
       "3  15001  S1F01JE0    79694024           0           0           0   \n",
       "4  15001  S1F01R2B   135970480           0           0           0   \n",
       "\n",
       "   attribute5  attribute6  attribute7  attribute8  attribute9  failure  \n",
       "0           6      407438           0           0           7        0  \n",
       "1           6      403174           0           0           0        0  \n",
       "2          12      237394           0           0           0        0  \n",
       "3           6      410186           0           0           0        0  \n",
       "4          15      313173           0           0           3        0  "
      ]
     },
     "execution_count": 57,
     "metadata": {},
     "output_type": "execute_result"
    }
   ],
   "source": [
    "#load csv and assess data\n",
    "df = pd.read_csv('../device-failure/device_failure.csv')\n",
    "df.head()"
   ]
  },
  {
   "cell_type": "markdown",
   "metadata": {},
   "source": [
    "## Assess Dataset \n",
    "The following assessment will figure out if there are any issues with the dataset such as abnormal values, empty cells etc\n"
   ]
  },
  {
   "cell_type": "code",
   "execution_count": 43,
   "metadata": {},
   "outputs": [
    {
     "data": {
      "text/plain": [
       "124494"
      ]
     },
     "execution_count": 43,
     "metadata": {},
     "output_type": "execute_result"
    }
   ],
   "source": [
    "#length\n",
    "len(df)"
   ]
  },
  {
   "cell_type": "code",
   "execution_count": 44,
   "metadata": {},
   "outputs": [
    {
     "data": {
      "text/plain": [
       "12"
      ]
     },
     "execution_count": 44,
     "metadata": {},
     "output_type": "execute_result"
    }
   ],
   "source": [
    "#number of columns\n",
    "len(df.columns)"
   ]
  },
  {
   "cell_type": "code",
   "execution_count": 45,
   "metadata": {},
   "outputs": [
    {
     "data": {
      "text/plain": [
       "date          False\n",
       "device        False\n",
       "attribute1    False\n",
       "attribute2    False\n",
       "attribute3    False\n",
       "attribute4    False\n",
       "attribute5    False\n",
       "attribute6    False\n",
       "attribute7    False\n",
       "attribute8    False\n",
       "attribute9    False\n",
       "failure       False\n",
       "dtype: bool"
      ]
     },
     "execution_count": 45,
     "metadata": {},
     "output_type": "execute_result"
    }
   ],
   "source": [
    "#check for null columns\n",
    "df.isnull().any()"
   ]
  },
  {
   "cell_type": "code",
   "execution_count": 46,
   "metadata": {},
   "outputs": [
    {
     "data": {
      "text/plain": [
       "0"
      ]
     },
     "execution_count": 46,
     "metadata": {},
     "output_type": "execute_result"
    }
   ],
   "source": [
    "#check for duplicates \n",
    "len(df[df.duplicated() == True])"
   ]
  },
  {
   "cell_type": "markdown",
   "metadata": {},
   "source": [
    "This data is relatively clean, with no duplicated records and no null cells. We shall have to check if any of the attritubes have high correlation to the failure\n",
    "\n",
    "I thought of separating the date column. However, there are advantages to not:\n",
    "-  Grouping becomes easy as these are integers to work with \n",
    "-  Sorting also becomes easy because of the same thing\n",
    "-  It keeps the size of the dataset small.\n",
    "\n",
    "However, it does require more knowledge on the part of the programmer to run with a date as this"
   ]
  },
  {
   "cell_type": "code",
   "execution_count": 56,
   "metadata": {},
   "outputs": [
    {
     "data": {
      "text/html": [
       "<style  type=\"text/css\" >\n",
       "    #T_e73dfd1e_d680_11e8_a669_dda1e65250b4row0_col0 {\n",
       "            background-color:  #023858;\n",
       "        }    #T_e73dfd1e_d680_11e8_a669_dda1e65250b4row0_col1 {\n",
       "            background-color:  #fcf4fa;\n",
       "        }    #T_e73dfd1e_d680_11e8_a669_dda1e65250b4row0_col2 {\n",
       "            background-color:  #fef6fa;\n",
       "        }    #T_e73dfd1e_d680_11e8_a669_dda1e65250b4row0_col3 {\n",
       "            background-color:  #fef6fa;\n",
       "        }    #T_e73dfd1e_d680_11e8_a669_dda1e65250b4row0_col4 {\n",
       "            background-color:  #fdf5fa;\n",
       "        }    #T_e73dfd1e_d680_11e8_a669_dda1e65250b4row0_col5 {\n",
       "            background-color:  #fbf4f9;\n",
       "        }    #T_e73dfd1e_d680_11e8_a669_dda1e65250b4row0_col6 {\n",
       "            background-color:  #fdf5fa;\n",
       "        }    #T_e73dfd1e_d680_11e8_a669_dda1e65250b4row0_col7 {\n",
       "            background-color:  #fdf5fa;\n",
       "        }    #T_e73dfd1e_d680_11e8_a669_dda1e65250b4row0_col8 {\n",
       "            background-color:  #fff7fb;\n",
       "        }    #T_e73dfd1e_d680_11e8_a669_dda1e65250b4row0_col9 {\n",
       "            background-color:  #fff7fb;\n",
       "        }    #T_e73dfd1e_d680_11e8_a669_dda1e65250b4row1_col0 {\n",
       "            background-color:  #fff7fb;\n",
       "        }    #T_e73dfd1e_d680_11e8_a669_dda1e65250b4row1_col1 {\n",
       "            background-color:  #023858;\n",
       "        }    #T_e73dfd1e_d680_11e8_a669_dda1e65250b4row1_col2 {\n",
       "            background-color:  #fef6fb;\n",
       "        }    #T_e73dfd1e_d680_11e8_a669_dda1e65250b4row1_col3 {\n",
       "            background-color:  #e6e2ef;\n",
       "        }    #T_e73dfd1e_d680_11e8_a669_dda1e65250b4row1_col4 {\n",
       "            background-color:  #fff7fb;\n",
       "        }    #T_e73dfd1e_d680_11e8_a669_dda1e65250b4row1_col5 {\n",
       "            background-color:  #fff7fb;\n",
       "        }    #T_e73dfd1e_d680_11e8_a669_dda1e65250b4row1_col6 {\n",
       "            background-color:  #e7e3f0;\n",
       "        }    #T_e73dfd1e_d680_11e8_a669_dda1e65250b4row1_col7 {\n",
       "            background-color:  #e7e3f0;\n",
       "        }    #T_e73dfd1e_d680_11e8_a669_dda1e65250b4row1_col8 {\n",
       "            background-color:  #fff7fb;\n",
       "        }    #T_e73dfd1e_d680_11e8_a669_dda1e65250b4row1_col9 {\n",
       "            background-color:  #f7f0f7;\n",
       "        }    #T_e73dfd1e_d680_11e8_a669_dda1e65250b4row2_col0 {\n",
       "            background-color:  #fef6fa;\n",
       "        }    #T_e73dfd1e_d680_11e8_a669_dda1e65250b4row2_col1 {\n",
       "            background-color:  #fcf4fa;\n",
       "        }    #T_e73dfd1e_d680_11e8_a669_dda1e65250b4row2_col2 {\n",
       "            background-color:  #023858;\n",
       "        }    #T_e73dfd1e_d680_11e8_a669_dda1e65250b4row2_col3 {\n",
       "            background-color:  #efe9f3;\n",
       "        }    #T_e73dfd1e_d680_11e8_a669_dda1e65250b4row2_col4 {\n",
       "            background-color:  #fef6fa;\n",
       "        }    #T_e73dfd1e_d680_11e8_a669_dda1e65250b4row2_col5 {\n",
       "            background-color:  #faf3f9;\n",
       "        }    #T_e73dfd1e_d680_11e8_a669_dda1e65250b4row2_col6 {\n",
       "            background-color:  #fef6fa;\n",
       "        }    #T_e73dfd1e_d680_11e8_a669_dda1e65250b4row2_col7 {\n",
       "            background-color:  #fef6fa;\n",
       "        }    #T_e73dfd1e_d680_11e8_a669_dda1e65250b4row2_col8 {\n",
       "            background-color:  #63a2cb;\n",
       "        }    #T_e73dfd1e_d680_11e8_a669_dda1e65250b4row2_col9 {\n",
       "            background-color:  #fff7fb;\n",
       "        }    #T_e73dfd1e_d680_11e8_a669_dda1e65250b4row3_col0 {\n",
       "            background-color:  #fef6fb;\n",
       "        }    #T_e73dfd1e_d680_11e8_a669_dda1e65250b4row3_col1 {\n",
       "            background-color:  #e2dfee;\n",
       "        }    #T_e73dfd1e_d680_11e8_a669_dda1e65250b4row3_col2 {\n",
       "            background-color:  #f0eaf4;\n",
       "        }    #T_e73dfd1e_d680_11e8_a669_dda1e65250b4row3_col3 {\n",
       "            background-color:  #023858;\n",
       "        }    #T_e73dfd1e_d680_11e8_a669_dda1e65250b4row3_col4 {\n",
       "            background-color:  #fef6fb;\n",
       "        }    #T_e73dfd1e_d680_11e8_a669_dda1e65250b4row3_col5 {\n",
       "            background-color:  #f8f1f8;\n",
       "        }    #T_e73dfd1e_d680_11e8_a669_dda1e65250b4row3_col6 {\n",
       "            background-color:  #f7f0f7;\n",
       "        }    #T_e73dfd1e_d680_11e8_a669_dda1e65250b4row3_col7 {\n",
       "            background-color:  #f7f0f7;\n",
       "        }    #T_e73dfd1e_d680_11e8_a669_dda1e65250b4row3_col8 {\n",
       "            background-color:  #faf2f8;\n",
       "        }    #T_e73dfd1e_d680_11e8_a669_dda1e65250b4row3_col9 {\n",
       "            background-color:  #f5eef6;\n",
       "        }    #T_e73dfd1e_d680_11e8_a669_dda1e65250b4row4_col0 {\n",
       "            background-color:  #fff7fb;\n",
       "        }    #T_e73dfd1e_d680_11e8_a669_dda1e65250b4row4_col1 {\n",
       "            background-color:  #fdf5fa;\n",
       "        }    #T_e73dfd1e_d680_11e8_a669_dda1e65250b4row4_col2 {\n",
       "            background-color:  #fff7fb;\n",
       "        }    #T_e73dfd1e_d680_11e8_a669_dda1e65250b4row4_col3 {\n",
       "            background-color:  #fff7fb;\n",
       "        }    #T_e73dfd1e_d680_11e8_a669_dda1e65250b4row4_col4 {\n",
       "            background-color:  #023858;\n",
       "        }    #T_e73dfd1e_d680_11e8_a669_dda1e65250b4row4_col5 {\n",
       "            background-color:  #fef6fa;\n",
       "        }    #T_e73dfd1e_d680_11e8_a669_dda1e65250b4row4_col6 {\n",
       "            background-color:  #fff7fb;\n",
       "        }    #T_e73dfd1e_d680_11e8_a669_dda1e65250b4row4_col7 {\n",
       "            background-color:  #fff7fb;\n",
       "        }    #T_e73dfd1e_d680_11e8_a669_dda1e65250b4row4_col8 {\n",
       "            background-color:  #fef6fa;\n",
       "        }    #T_e73dfd1e_d680_11e8_a669_dda1e65250b4row4_col9 {\n",
       "            background-color:  #fff7fb;\n",
       "        }    #T_e73dfd1e_d680_11e8_a669_dda1e65250b4row5_col0 {\n",
       "            background-color:  #fff7fb;\n",
       "        }    #T_e73dfd1e_d680_11e8_a669_dda1e65250b4row5_col1 {\n",
       "            background-color:  #fff7fb;\n",
       "        }    #T_e73dfd1e_d680_11e8_a669_dda1e65250b4row5_col2 {\n",
       "            background-color:  #fdf5fa;\n",
       "        }    #T_e73dfd1e_d680_11e8_a669_dda1e65250b4row5_col3 {\n",
       "            background-color:  #faf3f9;\n",
       "        }    #T_e73dfd1e_d680_11e8_a669_dda1e65250b4row5_col4 {\n",
       "            background-color:  #fff7fb;\n",
       "        }    #T_e73dfd1e_d680_11e8_a669_dda1e65250b4row5_col5 {\n",
       "            background-color:  #023858;\n",
       "        }    #T_e73dfd1e_d680_11e8_a669_dda1e65250b4row5_col6 {\n",
       "            background-color:  #fff7fb;\n",
       "        }    #T_e73dfd1e_d680_11e8_a669_dda1e65250b4row5_col7 {\n",
       "            background-color:  #fff7fb;\n",
       "        }    #T_e73dfd1e_d680_11e8_a669_dda1e65250b4row5_col8 {\n",
       "            background-color:  #fbf4f9;\n",
       "        }    #T_e73dfd1e_d680_11e8_a669_dda1e65250b4row5_col9 {\n",
       "            background-color:  #fff7fb;\n",
       "        }    #T_e73dfd1e_d680_11e8_a669_dda1e65250b4row6_col0 {\n",
       "            background-color:  #fef6fb;\n",
       "        }    #T_e73dfd1e_d680_11e8_a669_dda1e65250b4row6_col1 {\n",
       "            background-color:  #e4e1ef;\n",
       "        }    #T_e73dfd1e_d680_11e8_a669_dda1e65250b4row6_col2 {\n",
       "            background-color:  #fef6fb;\n",
       "        }    #T_e73dfd1e_d680_11e8_a669_dda1e65250b4row6_col3 {\n",
       "            background-color:  #f7f0f7;\n",
       "        }    #T_e73dfd1e_d680_11e8_a669_dda1e65250b4row6_col4 {\n",
       "            background-color:  #fef6fb;\n",
       "        }    #T_e73dfd1e_d680_11e8_a669_dda1e65250b4row6_col5 {\n",
       "            background-color:  #fdf5fa;\n",
       "        }    #T_e73dfd1e_d680_11e8_a669_dda1e65250b4row6_col6 {\n",
       "            background-color:  #023858;\n",
       "        }    #T_e73dfd1e_d680_11e8_a669_dda1e65250b4row6_col7 {\n",
       "            background-color:  #023858;\n",
       "        }    #T_e73dfd1e_d680_11e8_a669_dda1e65250b4row6_col8 {\n",
       "            background-color:  #fef6fa;\n",
       "        }    #T_e73dfd1e_d680_11e8_a669_dda1e65250b4row6_col9 {\n",
       "            background-color:  #ede8f3;\n",
       "        }    #T_e73dfd1e_d680_11e8_a669_dda1e65250b4row7_col0 {\n",
       "            background-color:  #fef6fb;\n",
       "        }    #T_e73dfd1e_d680_11e8_a669_dda1e65250b4row7_col1 {\n",
       "            background-color:  #e4e1ef;\n",
       "        }    #T_e73dfd1e_d680_11e8_a669_dda1e65250b4row7_col2 {\n",
       "            background-color:  #fef6fb;\n",
       "        }    #T_e73dfd1e_d680_11e8_a669_dda1e65250b4row7_col3 {\n",
       "            background-color:  #f7f0f7;\n",
       "        }    #T_e73dfd1e_d680_11e8_a669_dda1e65250b4row7_col4 {\n",
       "            background-color:  #fef6fb;\n",
       "        }    #T_e73dfd1e_d680_11e8_a669_dda1e65250b4row7_col5 {\n",
       "            background-color:  #fdf5fa;\n",
       "        }    #T_e73dfd1e_d680_11e8_a669_dda1e65250b4row7_col6 {\n",
       "            background-color:  #023858;\n",
       "        }    #T_e73dfd1e_d680_11e8_a669_dda1e65250b4row7_col7 {\n",
       "            background-color:  #023858;\n",
       "        }    #T_e73dfd1e_d680_11e8_a669_dda1e65250b4row7_col8 {\n",
       "            background-color:  #fef6fa;\n",
       "        }    #T_e73dfd1e_d680_11e8_a669_dda1e65250b4row7_col9 {\n",
       "            background-color:  #ede8f3;\n",
       "        }    #T_e73dfd1e_d680_11e8_a669_dda1e65250b4row8_col0 {\n",
       "            background-color:  #fef6fb;\n",
       "        }    #T_e73dfd1e_d680_11e8_a669_dda1e65250b4row8_col1 {\n",
       "            background-color:  #fcf4fa;\n",
       "        }    #T_e73dfd1e_d680_11e8_a669_dda1e65250b4row8_col2 {\n",
       "            background-color:  #62a2cb;\n",
       "        }    #T_e73dfd1e_d680_11e8_a669_dda1e65250b4row8_col3 {\n",
       "            background-color:  #f8f1f8;\n",
       "        }    #T_e73dfd1e_d680_11e8_a669_dda1e65250b4row8_col4 {\n",
       "            background-color:  #fcf4fa;\n",
       "        }    #T_e73dfd1e_d680_11e8_a669_dda1e65250b4row8_col5 {\n",
       "            background-color:  #f8f1f8;\n",
       "        }    #T_e73dfd1e_d680_11e8_a669_dda1e65250b4row8_col6 {\n",
       "            background-color:  #fdf5fa;\n",
       "        }    #T_e73dfd1e_d680_11e8_a669_dda1e65250b4row8_col7 {\n",
       "            background-color:  #fdf5fa;\n",
       "        }    #T_e73dfd1e_d680_11e8_a669_dda1e65250b4row8_col8 {\n",
       "            background-color:  #023858;\n",
       "        }    #T_e73dfd1e_d680_11e8_a669_dda1e65250b4row8_col9 {\n",
       "            background-color:  #fff7fb;\n",
       "        }    #T_e73dfd1e_d680_11e8_a669_dda1e65250b4row9_col0 {\n",
       "            background-color:  #fef6fb;\n",
       "        }    #T_e73dfd1e_d680_11e8_a669_dda1e65250b4row9_col1 {\n",
       "            background-color:  #f4edf6;\n",
       "        }    #T_e73dfd1e_d680_11e8_a669_dda1e65250b4row9_col2 {\n",
       "            background-color:  #fef6fb;\n",
       "        }    #T_e73dfd1e_d680_11e8_a669_dda1e65250b4row9_col3 {\n",
       "            background-color:  #f4edf6;\n",
       "        }    #T_e73dfd1e_d680_11e8_a669_dda1e65250b4row9_col4 {\n",
       "            background-color:  #fdf5fa;\n",
       "        }    #T_e73dfd1e_d680_11e8_a669_dda1e65250b4row9_col5 {\n",
       "            background-color:  #fbf4f9;\n",
       "        }    #T_e73dfd1e_d680_11e8_a669_dda1e65250b4row9_col6 {\n",
       "            background-color:  #ebe6f2;\n",
       "        }    #T_e73dfd1e_d680_11e8_a669_dda1e65250b4row9_col7 {\n",
       "            background-color:  #ebe6f2;\n",
       "        }    #T_e73dfd1e_d680_11e8_a669_dda1e65250b4row9_col8 {\n",
       "            background-color:  #fef6fb;\n",
       "        }    #T_e73dfd1e_d680_11e8_a669_dda1e65250b4row9_col9 {\n",
       "            background-color:  #023858;\n",
       "        }</style>  \n",
       "<table id=\"T_e73dfd1e_d680_11e8_a669_dda1e65250b4\" > \n",
       "<thead>    <tr> \n",
       "        <th class=\"blank level0\" ></th> \n",
       "        <th class=\"col_heading level0 col0\" >attribute1</th> \n",
       "        <th class=\"col_heading level0 col1\" >attribute2</th> \n",
       "        <th class=\"col_heading level0 col2\" >attribute3</th> \n",
       "        <th class=\"col_heading level0 col3\" >attribute4</th> \n",
       "        <th class=\"col_heading level0 col4\" >attribute5</th> \n",
       "        <th class=\"col_heading level0 col5\" >attribute6</th> \n",
       "        <th class=\"col_heading level0 col6\" >attribute7</th> \n",
       "        <th class=\"col_heading level0 col7\" >attribute8</th> \n",
       "        <th class=\"col_heading level0 col8\" >attribute9</th> \n",
       "        <th class=\"col_heading level0 col9\" >failure</th> \n",
       "    </tr></thead> \n",
       "<tbody>    <tr> \n",
       "        <th id=\"T_e73dfd1e_d680_11e8_a669_dda1e65250b4level0_row0\" class=\"row_heading level0 row0\" >attribute1</th> \n",
       "        <td id=\"T_e73dfd1e_d680_11e8_a669_dda1e65250b4row0_col0\" class=\"data row0 col0\" >1</td> \n",
       "        <td id=\"T_e73dfd1e_d680_11e8_a669_dda1e65250b4row0_col1\" class=\"data row0 col1\" >-0.0042</td> \n",
       "        <td id=\"T_e73dfd1e_d680_11e8_a669_dda1e65250b4row0_col2\" class=\"data row0 col2\" >0.0037</td> \n",
       "        <td id=\"T_e73dfd1e_d680_11e8_a669_dda1e65250b4row0_col3\" class=\"data row0 col3\" >0.0018</td> \n",
       "        <td id=\"T_e73dfd1e_d680_11e8_a669_dda1e65250b4row0_col4\" class=\"data row0 col4\" >-0.0034</td> \n",
       "        <td id=\"T_e73dfd1e_d680_11e8_a669_dda1e65250b4row0_col5\" class=\"data row0 col5\" >-0.0015</td> \n",
       "        <td id=\"T_e73dfd1e_d680_11e8_a669_dda1e65250b4row0_col6\" class=\"data row0 col6\" >0.00015</td> \n",
       "        <td id=\"T_e73dfd1e_d680_11e8_a669_dda1e65250b4row0_col7\" class=\"data row0 col7\" >0.00015</td> \n",
       "        <td id=\"T_e73dfd1e_d680_11e8_a669_dda1e65250b4row0_col8\" class=\"data row0 col8\" >0.0011</td> \n",
       "        <td id=\"T_e73dfd1e_d680_11e8_a669_dda1e65250b4row0_col9\" class=\"data row0 col9\" >0.002</td> \n",
       "    </tr>    <tr> \n",
       "        <th id=\"T_e73dfd1e_d680_11e8_a669_dda1e65250b4level0_row1\" class=\"row_heading level0 row1\" >attribute2</th> \n",
       "        <td id=\"T_e73dfd1e_d680_11e8_a669_dda1e65250b4row1_col0\" class=\"data row1 col0\" >-0.0042</td> \n",
       "        <td id=\"T_e73dfd1e_d680_11e8_a669_dda1e65250b4row1_col1\" class=\"data row1 col1\" >1</td> \n",
       "        <td id=\"T_e73dfd1e_d680_11e8_a669_dda1e65250b4row1_col2\" class=\"data row1 col2\" >-0.0026</td> \n",
       "        <td id=\"T_e73dfd1e_d680_11e8_a669_dda1e65250b4row1_col3\" class=\"data row1 col3\" >0.15</td> \n",
       "        <td id=\"T_e73dfd1e_d680_11e8_a669_dda1e65250b4row1_col4\" class=\"data row1 col4\" >-0.014</td> \n",
       "        <td id=\"T_e73dfd1e_d680_11e8_a669_dda1e65250b4row1_col5\" class=\"data row1 col5\" >-0.026</td> \n",
       "        <td id=\"T_e73dfd1e_d680_11e8_a669_dda1e65250b4row1_col6\" class=\"data row1 col6\" >0.14</td> \n",
       "        <td id=\"T_e73dfd1e_d680_11e8_a669_dda1e65250b4row1_col7\" class=\"data row1 col7\" >0.14</td> \n",
       "        <td id=\"T_e73dfd1e_d680_11e8_a669_dda1e65250b4row1_col8\" class=\"data row1 col8\" >-0.0027</td> \n",
       "        <td id=\"T_e73dfd1e_d680_11e8_a669_dda1e65250b4row1_col9\" class=\"data row1 col9\" >0.053</td> \n",
       "    </tr>    <tr> \n",
       "        <th id=\"T_e73dfd1e_d680_11e8_a669_dda1e65250b4level0_row2\" class=\"row_heading level0 row2\" >attribute3</th> \n",
       "        <td id=\"T_e73dfd1e_d680_11e8_a669_dda1e65250b4row2_col0\" class=\"data row2 col0\" >0.0037</td> \n",
       "        <td id=\"T_e73dfd1e_d680_11e8_a669_dda1e65250b4row2_col1\" class=\"data row2 col1\" >-0.0026</td> \n",
       "        <td id=\"T_e73dfd1e_d680_11e8_a669_dda1e65250b4row2_col2\" class=\"data row2 col2\" >1</td> \n",
       "        <td id=\"T_e73dfd1e_d680_11e8_a669_dda1e65250b4row2_col3\" class=\"data row2 col3\" >0.097</td> \n",
       "        <td id=\"T_e73dfd1e_d680_11e8_a669_dda1e65250b4row2_col4\" class=\"data row2 col4\" >-0.0067</td> \n",
       "        <td id=\"T_e73dfd1e_d680_11e8_a669_dda1e65250b4row2_col5\" class=\"data row2 col5\" >0.009</td> \n",
       "        <td id=\"T_e73dfd1e_d680_11e8_a669_dda1e65250b4row2_col6\" class=\"data row2 col6\" >-0.0019</td> \n",
       "        <td id=\"T_e73dfd1e_d680_11e8_a669_dda1e65250b4row2_col7\" class=\"data row2 col7\" >-0.0019</td> \n",
       "        <td id=\"T_e73dfd1e_d680_11e8_a669_dda1e65250b4row2_col8\" class=\"data row2 col8\" >0.53</td> \n",
       "        <td id=\"T_e73dfd1e_d680_11e8_a669_dda1e65250b4row2_col9\" class=\"data row2 col9\" >-0.00095</td> \n",
       "    </tr>    <tr> \n",
       "        <th id=\"T_e73dfd1e_d680_11e8_a669_dda1e65250b4level0_row3\" class=\"row_heading level0 row3\" >attribute4</th> \n",
       "        <td id=\"T_e73dfd1e_d680_11e8_a669_dda1e65250b4row3_col0\" class=\"data row3 col0\" >0.0018</td> \n",
       "        <td id=\"T_e73dfd1e_d680_11e8_a669_dda1e65250b4row3_col1\" class=\"data row3 col1\" >0.15</td> \n",
       "        <td id=\"T_e73dfd1e_d680_11e8_a669_dda1e65250b4row3_col2\" class=\"data row3 col2\" >0.097</td> \n",
       "        <td id=\"T_e73dfd1e_d680_11e8_a669_dda1e65250b4row3_col3\" class=\"data row3 col3\" >1</td> \n",
       "        <td id=\"T_e73dfd1e_d680_11e8_a669_dda1e65250b4row3_col4\" class=\"data row3 col4\" >-0.0098</td> \n",
       "        <td id=\"T_e73dfd1e_d680_11e8_a669_dda1e65250b4row3_col5\" class=\"data row3 col5\" >0.025</td> \n",
       "        <td id=\"T_e73dfd1e_d680_11e8_a669_dda1e65250b4row3_col6\" class=\"data row3 col6\" >0.046</td> \n",
       "        <td id=\"T_e73dfd1e_d680_11e8_a669_dda1e65250b4row3_col7\" class=\"data row3 col7\" >0.046</td> \n",
       "        <td id=\"T_e73dfd1e_d680_11e8_a669_dda1e65250b4row3_col8\" class=\"data row3 col8\" >0.036</td> \n",
       "        <td id=\"T_e73dfd1e_d680_11e8_a669_dda1e65250b4row3_col9\" class=\"data row3 col9\" >0.067</td> \n",
       "    </tr>    <tr> \n",
       "        <th id=\"T_e73dfd1e_d680_11e8_a669_dda1e65250b4level0_row4\" class=\"row_heading level0 row4\" >attribute5</th> \n",
       "        <td id=\"T_e73dfd1e_d680_11e8_a669_dda1e65250b4row4_col0\" class=\"data row4 col0\" >-0.0034</td> \n",
       "        <td id=\"T_e73dfd1e_d680_11e8_a669_dda1e65250b4row4_col1\" class=\"data row4 col1\" >-0.014</td> \n",
       "        <td id=\"T_e73dfd1e_d680_11e8_a669_dda1e65250b4row4_col2\" class=\"data row4 col2\" >-0.0067</td> \n",
       "        <td id=\"T_e73dfd1e_d680_11e8_a669_dda1e65250b4row4_col3\" class=\"data row4 col3\" >-0.0098</td> \n",
       "        <td id=\"T_e73dfd1e_d680_11e8_a669_dda1e65250b4row4_col4\" class=\"data row4 col4\" >1</td> \n",
       "        <td id=\"T_e73dfd1e_d680_11e8_a669_dda1e65250b4row4_col5\" class=\"data row4 col5\" >-0.017</td> \n",
       "        <td id=\"T_e73dfd1e_d680_11e8_a669_dda1e65250b4row4_col6\" class=\"data row4 col6\" >-0.0094</td> \n",
       "        <td id=\"T_e73dfd1e_d680_11e8_a669_dda1e65250b4row4_col7\" class=\"data row4 col7\" >-0.0094</td> \n",
       "        <td id=\"T_e73dfd1e_d680_11e8_a669_dda1e65250b4row4_col8\" class=\"data row4 col8\" >0.0059</td> \n",
       "        <td id=\"T_e73dfd1e_d680_11e8_a669_dda1e65250b4row4_col9\" class=\"data row4 col9\" >0.0023</td> \n",
       "    </tr>    <tr> \n",
       "        <th id=\"T_e73dfd1e_d680_11e8_a669_dda1e65250b4level0_row5\" class=\"row_heading level0 row5\" >attribute6</th> \n",
       "        <td id=\"T_e73dfd1e_d680_11e8_a669_dda1e65250b4row5_col0\" class=\"data row5 col0\" >-0.0015</td> \n",
       "        <td id=\"T_e73dfd1e_d680_11e8_a669_dda1e65250b4row5_col1\" class=\"data row5 col1\" >-0.026</td> \n",
       "        <td id=\"T_e73dfd1e_d680_11e8_a669_dda1e65250b4row5_col2\" class=\"data row5 col2\" >0.009</td> \n",
       "        <td id=\"T_e73dfd1e_d680_11e8_a669_dda1e65250b4row5_col3\" class=\"data row5 col3\" >0.025</td> \n",
       "        <td id=\"T_e73dfd1e_d680_11e8_a669_dda1e65250b4row5_col4\" class=\"data row5 col4\" >-0.017</td> \n",
       "        <td id=\"T_e73dfd1e_d680_11e8_a669_dda1e65250b4row5_col5\" class=\"data row5 col5\" >1</td> \n",
       "        <td id=\"T_e73dfd1e_d680_11e8_a669_dda1e65250b4row5_col6\" class=\"data row5 col6\" >-0.012</td> \n",
       "        <td id=\"T_e73dfd1e_d680_11e8_a669_dda1e65250b4row5_col7\" class=\"data row5 col7\" >-0.012</td> \n",
       "        <td id=\"T_e73dfd1e_d680_11e8_a669_dda1e65250b4row5_col8\" class=\"data row5 col8\" >0.021</td> \n",
       "        <td id=\"T_e73dfd1e_d680_11e8_a669_dda1e65250b4row5_col9\" class=\"data row5 col9\" >-0.00055</td> \n",
       "    </tr>    <tr> \n",
       "        <th id=\"T_e73dfd1e_d680_11e8_a669_dda1e65250b4level0_row6\" class=\"row_heading level0 row6\" >attribute7</th> \n",
       "        <td id=\"T_e73dfd1e_d680_11e8_a669_dda1e65250b4row6_col0\" class=\"data row6 col0\" >0.00015</td> \n",
       "        <td id=\"T_e73dfd1e_d680_11e8_a669_dda1e65250b4row6_col1\" class=\"data row6 col1\" >0.14</td> \n",
       "        <td id=\"T_e73dfd1e_d680_11e8_a669_dda1e65250b4row6_col2\" class=\"data row6 col2\" >-0.0019</td> \n",
       "        <td id=\"T_e73dfd1e_d680_11e8_a669_dda1e65250b4row6_col3\" class=\"data row6 col3\" >0.046</td> \n",
       "        <td id=\"T_e73dfd1e_d680_11e8_a669_dda1e65250b4row6_col4\" class=\"data row6 col4\" >-0.0094</td> \n",
       "        <td id=\"T_e73dfd1e_d680_11e8_a669_dda1e65250b4row6_col5\" class=\"data row6 col5\" >-0.012</td> \n",
       "        <td id=\"T_e73dfd1e_d680_11e8_a669_dda1e65250b4row6_col6\" class=\"data row6 col6\" >1</td> \n",
       "        <td id=\"T_e73dfd1e_d680_11e8_a669_dda1e65250b4row6_col7\" class=\"data row6 col7\" >1</td> \n",
       "        <td id=\"T_e73dfd1e_d680_11e8_a669_dda1e65250b4row6_col8\" class=\"data row6 col8\" >0.0069</td> \n",
       "        <td id=\"T_e73dfd1e_d680_11e8_a669_dda1e65250b4row6_col9\" class=\"data row6 col9\" >0.12</td> \n",
       "    </tr>    <tr> \n",
       "        <th id=\"T_e73dfd1e_d680_11e8_a669_dda1e65250b4level0_row7\" class=\"row_heading level0 row7\" >attribute8</th> \n",
       "        <td id=\"T_e73dfd1e_d680_11e8_a669_dda1e65250b4row7_col0\" class=\"data row7 col0\" >0.00015</td> \n",
       "        <td id=\"T_e73dfd1e_d680_11e8_a669_dda1e65250b4row7_col1\" class=\"data row7 col1\" >0.14</td> \n",
       "        <td id=\"T_e73dfd1e_d680_11e8_a669_dda1e65250b4row7_col2\" class=\"data row7 col2\" >-0.0019</td> \n",
       "        <td id=\"T_e73dfd1e_d680_11e8_a669_dda1e65250b4row7_col3\" class=\"data row7 col3\" >0.046</td> \n",
       "        <td id=\"T_e73dfd1e_d680_11e8_a669_dda1e65250b4row7_col4\" class=\"data row7 col4\" >-0.0094</td> \n",
       "        <td id=\"T_e73dfd1e_d680_11e8_a669_dda1e65250b4row7_col5\" class=\"data row7 col5\" >-0.012</td> \n",
       "        <td id=\"T_e73dfd1e_d680_11e8_a669_dda1e65250b4row7_col6\" class=\"data row7 col6\" >1</td> \n",
       "        <td id=\"T_e73dfd1e_d680_11e8_a669_dda1e65250b4row7_col7\" class=\"data row7 col7\" >1</td> \n",
       "        <td id=\"T_e73dfd1e_d680_11e8_a669_dda1e65250b4row7_col8\" class=\"data row7 col8\" >0.0069</td> \n",
       "        <td id=\"T_e73dfd1e_d680_11e8_a669_dda1e65250b4row7_col9\" class=\"data row7 col9\" >0.12</td> \n",
       "    </tr>    <tr> \n",
       "        <th id=\"T_e73dfd1e_d680_11e8_a669_dda1e65250b4level0_row8\" class=\"row_heading level0 row8\" >attribute9</th> \n",
       "        <td id=\"T_e73dfd1e_d680_11e8_a669_dda1e65250b4row8_col0\" class=\"data row8 col0\" >0.0011</td> \n",
       "        <td id=\"T_e73dfd1e_d680_11e8_a669_dda1e65250b4row8_col1\" class=\"data row8 col1\" >-0.0027</td> \n",
       "        <td id=\"T_e73dfd1e_d680_11e8_a669_dda1e65250b4row8_col2\" class=\"data row8 col2\" >0.53</td> \n",
       "        <td id=\"T_e73dfd1e_d680_11e8_a669_dda1e65250b4row8_col3\" class=\"data row8 col3\" >0.036</td> \n",
       "        <td id=\"T_e73dfd1e_d680_11e8_a669_dda1e65250b4row8_col4\" class=\"data row8 col4\" >0.0059</td> \n",
       "        <td id=\"T_e73dfd1e_d680_11e8_a669_dda1e65250b4row8_col5\" class=\"data row8 col5\" >0.021</td> \n",
       "        <td id=\"T_e73dfd1e_d680_11e8_a669_dda1e65250b4row8_col6\" class=\"data row8 col6\" >0.0069</td> \n",
       "        <td id=\"T_e73dfd1e_d680_11e8_a669_dda1e65250b4row8_col7\" class=\"data row8 col7\" >0.0069</td> \n",
       "        <td id=\"T_e73dfd1e_d680_11e8_a669_dda1e65250b4row8_col8\" class=\"data row8 col8\" >1</td> \n",
       "        <td id=\"T_e73dfd1e_d680_11e8_a669_dda1e65250b4row8_col9\" class=\"data row8 col9\" >0.0016</td> \n",
       "    </tr>    <tr> \n",
       "        <th id=\"T_e73dfd1e_d680_11e8_a669_dda1e65250b4level0_row9\" class=\"row_heading level0 row9\" >failure</th> \n",
       "        <td id=\"T_e73dfd1e_d680_11e8_a669_dda1e65250b4row9_col0\" class=\"data row9 col0\" >0.002</td> \n",
       "        <td id=\"T_e73dfd1e_d680_11e8_a669_dda1e65250b4row9_col1\" class=\"data row9 col1\" >0.053</td> \n",
       "        <td id=\"T_e73dfd1e_d680_11e8_a669_dda1e65250b4row9_col2\" class=\"data row9 col2\" >-0.00095</td> \n",
       "        <td id=\"T_e73dfd1e_d680_11e8_a669_dda1e65250b4row9_col3\" class=\"data row9 col3\" >0.067</td> \n",
       "        <td id=\"T_e73dfd1e_d680_11e8_a669_dda1e65250b4row9_col4\" class=\"data row9 col4\" >0.0023</td> \n",
       "        <td id=\"T_e73dfd1e_d680_11e8_a669_dda1e65250b4row9_col5\" class=\"data row9 col5\" >-0.00055</td> \n",
       "        <td id=\"T_e73dfd1e_d680_11e8_a669_dda1e65250b4row9_col6\" class=\"data row9 col6\" >0.12</td> \n",
       "        <td id=\"T_e73dfd1e_d680_11e8_a669_dda1e65250b4row9_col7\" class=\"data row9 col7\" >0.12</td> \n",
       "        <td id=\"T_e73dfd1e_d680_11e8_a669_dda1e65250b4row9_col8\" class=\"data row9 col8\" >0.0016</td> \n",
       "        <td id=\"T_e73dfd1e_d680_11e8_a669_dda1e65250b4row9_col9\" class=\"data row9 col9\" >1</td> \n",
       "    </tr></tbody> \n",
       "</table> "
      ],
      "text/plain": [
       "<pandas.io.formats.style.Styler at 0x7f23a7742f60>"
      ]
     },
     "execution_count": 56,
     "metadata": {},
     "output_type": "execute_result"
    }
   ],
   "source": [
    "#plot the correlation matrix \n",
    "\n",
    "corr = df[df.columns[2:]].corr()\n",
    "corr.style.background_gradient().set_precision(2)"
   ]
  },
  {
   "cell_type": "markdown",
   "metadata": {},
   "source": [
    "We have to reduce the size of the dataset by reducing the number of columns and this can be done by checking the correlation of all variables with failure variable. We can thus, see that attribute2, attribute4, attribute7 and attribute8 are the most important in making an analysis. Other columns are not that important and may not be used. The advantage of using correlation over covariance is that it is normalised and not dependent on the scales of the column values.\n",
    "\n",
    "Other ways that can be used to check for relationships:\n",
    "-  plot variables\n",
    "-  check for joint, marginal, and conditional distributions\n"
   ]
  },
  {
   "cell_type": "code",
   "execution_count": 72,
   "metadata": {},
   "outputs": [],
   "source": [
    "#separtaing the data to proof timing improvements\n",
    "df_small = df.drop(['device','attribute3','attribute5','attribute6','attribute9'], axis=1)"
   ]
  },
  {
   "cell_type": "code",
   "execution_count": 75,
   "metadata": {},
   "outputs": [
    {
     "name": "stdout",
     "output_type": "stream",
     "text": [
      "80.7 ms ± 1.77 ms per loop (mean ± std. dev. of 7 runs, 10 loops each)\n"
     ]
    }
   ],
   "source": [
    "%%timeit\n",
    "df.describe()"
   ]
  },
  {
   "cell_type": "code",
   "execution_count": 76,
   "metadata": {},
   "outputs": [
    {
     "name": "stdout",
     "output_type": "stream",
     "text": [
      "49.9 ms ± 1.21 ms per loop (mean ± std. dev. of 7 runs, 10 loops each)\n"
     ]
    }
   ],
   "source": [
    "%%timeit\n",
    "df_small.describe()"
   ]
  },
  {
   "cell_type": "code",
   "execution_count": 79,
   "metadata": {},
   "outputs": [
    {
     "name": "stdout",
     "output_type": "stream",
     "text": [
      "664 µs ± 21.7 µs per loop (mean ± std. dev. of 7 runs, 1000 loops each)\n"
     ]
    }
   ],
   "source": [
    "%%timeit \n",
    "new_df = df[df['failure'] == 1]['attribute7']"
   ]
  },
  {
   "cell_type": "code",
   "execution_count": 81,
   "metadata": {},
   "outputs": [
    {
     "name": "stdout",
     "output_type": "stream",
     "text": [
      "556 µs ± 10.4 µs per loop (mean ± std. dev. of 7 runs, 1000 loops each)\n"
     ]
    }
   ],
   "source": [
    "%%timeit\n",
    "new_df = df_small[df_small['failure'] == 1]['attribute7']"
   ]
  },
  {
   "cell_type": "code",
   "execution_count": 84,
   "metadata": {},
   "outputs": [
    {
     "name": "stdout",
     "output_type": "stream",
     "text": [
      "1.91 ms ± 42.8 µs per loop (mean ± std. dev. of 7 runs, 1000 loops each)\n"
     ]
    }
   ],
   "source": [
    "%%timeit\n",
    "df.groupby(['failure']).size()"
   ]
  },
  {
   "cell_type": "code",
   "execution_count": 85,
   "metadata": {},
   "outputs": [
    {
     "name": "stdout",
     "output_type": "stream",
     "text": [
      "1.85 ms ± 2.42 µs per loop (mean ± std. dev. of 7 runs, 1000 loops each)\n"
     ]
    }
   ],
   "source": [
    "%%timeit\n",
    "df_small.groupby(['failure']).size()"
   ]
  },
  {
   "cell_type": "markdown",
   "metadata": {},
   "source": [
    "It can easily be seen that in simple functions, the larger dataframe times are almost double the smaller dataframe times. \n",
    "Even for more complex funtions, the smaller dataframe always performs better. In a time where every microsecond counts in system performance, even a 15 milisecond difference is very large. \n",
    "\n",
    "However, it should be noted that there is loss of data, in the smaller df. You can never be two sure that the attributes left out are not worthy (except for the device attribute as that is unique to each row). Thus, maybe a better solution would be to make two smaller dataframes; one of the important attributes and one for the unimportant attributes. "
   ]
  },
  {
   "cell_type": "code",
   "execution_count": null,
   "metadata": {},
   "outputs": [],
   "source": []
  }
 ],
 "metadata": {
  "kernelspec": {
   "display_name": "Python 3",
   "language": "python",
   "name": "python3"
  },
  "language_info": {
   "codemirror_mode": {
    "name": "ipython",
    "version": 3
   },
   "file_extension": ".py",
   "mimetype": "text/x-python",
   "name": "python",
   "nbconvert_exporter": "python",
   "pygments_lexer": "ipython3",
   "version": "3.5.6"
  }
 },
 "nbformat": 4,
 "nbformat_minor": 2
}
